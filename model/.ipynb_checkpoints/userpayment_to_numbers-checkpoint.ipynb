{
 "cells": [
  {
   "cell_type": "code",
   "execution_count": 4,
   "metadata": {},
   "outputs": [],
   "source": [
    "import pandas as pd"
   ]
  },
  {
   "cell_type": "code",
   "execution_count": 5,
   "metadata": {},
   "outputs": [],
   "source": [
    "file= open('userpayment.csv', mode='r', encoding='utf-8', errors='ignore')\n",
    "training_data = pd.read_csv(file)\n",
    "training_data[\"Upayment\"] = training_data.Upayment.replace(\"cash\",\"0\")\n",
    "training_data[\"Upayment\"] = training_data.Upayment.replace(\"?\",\"0\")\n",
    "training_data[\"Upayment\"] = training_data.Upayment.replace(\"VISA\",\"1\")\n",
    "training_data[\"Upayment\"] = training_data.Upayment.replace(\"American_Express\",\"1\")\n",
    "training_data[\"Upayment\"] = training_data.Upayment.replace(\"MasterCard-Eurocard\",\"1\")\n",
    "training_data[\"Upayment\"] = training_data.Upayment.replace(\"bank_debit_cards\",\"2\")"
   ]
  },
  {
   "cell_type": "code",
   "execution_count": 6,
   "metadata": {},
   "outputs": [],
   "source": [
    "training_data.to_csv(\"userpayment_numerical.csv\")"
   ]
  },
  {
   "cell_type": "code",
   "execution_count": null,
   "metadata": {},
   "outputs": [],
   "source": []
  }
 ],
 "metadata": {
  "kernelspec": {
   "display_name": "Python 3",
   "language": "python",
   "name": "python3"
  },
  "language_info": {
   "codemirror_mode": {
    "name": "ipython",
    "version": 3
   },
   "file_extension": ".py",
   "mimetype": "text/x-python",
   "name": "python",
   "nbconvert_exporter": "python",
   "pygments_lexer": "ipython3",
   "version": "3.6.7"
  }
 },
 "nbformat": 4,
 "nbformat_minor": 2
}
